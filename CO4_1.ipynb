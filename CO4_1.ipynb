{
  "nbformat": 4,
  "nbformat_minor": 0,
  "metadata": {
    "colab": {
      "name": "CO4_1.ipynb",
      "provenance": [],
      "authorship_tag": "ABX9TyPgCnywIIK9/nd2rCLn8bli",
      "include_colab_link": true
    },
    "kernelspec": {
      "name": "python3",
      "display_name": "Python 3"
    },
    "language_info": {
      "name": "python"
    }
  },
  "cells": [
    {
      "cell_type": "markdown",
      "metadata": {
        "id": "view-in-github",
        "colab_type": "text"
      },
      "source": [
        "<a href=\"https://colab.research.google.com/github/Jibin8199/python-lab/blob/main/CO4_1.ipynb\" target=\"_parent\"><img src=\"https://colab.research.google.com/assets/colab-badge.svg\" alt=\"Open In Colab\"/></a>"
      ]
    },
    {
      "cell_type": "code",
      "metadata": {
        "colab": {
          "base_uri": "https://localhost:8080/"
        },
        "id": "HpClSrdIw0pY",
        "outputId": "ccf57d7c-2866-41f1-cd7a-7843d4a55731"
      },
      "source": [
        "\"\"\"1.Create Rectangle class with attributes length and breadth and methods \n",
        "to find area and perimeter. Compare two Rectangle objects by their area.\"\"\" \n",
        "\n",
        "class rectangle():\n",
        "    def __init__(self,breadth,length):\n",
        "        self.breadth=breadth\n",
        "        self.length=length\n",
        "    def area(self):\n",
        "        return self.breadth*self.length\n",
        "    def perimeter(self):\n",
        "        return 2*(self.breadth+self.length)\n",
        "\n",
        "a=int(input(\"Enter length of rectangle 1: \"))\n",
        "b=int(input(\"Enter breadth of rectangle 1: \"))\n",
        "c=int(input(\"Enter length of rectangle 2: \"))\n",
        "d=int(input(\"Enter breadth of rectangle 2: \"))\n",
        "\n",
        "print()\n",
        "obj1=rectangle(a,b)\n",
        "obj2=rectangle(c,d)\n",
        "\n",
        "print()\n",
        "print(\"Area of rectangle1:\",obj1.area())\n",
        "print(\"perimeter of rectangle1:\",obj1.perimeter())\n",
        "\n",
        "print()\n",
        "print(\"Area of rectangle2:\",obj2.area())\n",
        "print(\"perimeter of rectangle2:\",obj2.perimeter())\n",
        "\n",
        "print()\n",
        "if (obj1.area()==obj2.area()):\n",
        "   print(\"area of both rectangles are same\")\n",
        "elif obj1.area() > obj2.area():\n",
        "   print(\"Area of First reactangle is greater \",obj1.area())\n",
        "else:\n",
        "   print(\"Area of Second reactangle is greater \",obj2.area())"
      ],
      "execution_count": null,
      "outputs": [
        {
          "output_type": "stream",
          "text": [
            "Enter length of rectangle 1: 2\n",
            "Enter breadth of rectangle 1: 3\n",
            "Enter length of rectangle 2: 4\n",
            "Enter breadth of rectangle 2: 5\n",
            "\n",
            "\n",
            "Area of rectangle1: 6\n",
            "perimeter of rectangle1: 10\n",
            "\n",
            "Area of rectangle2: 20\n",
            "perimeter of rectangle2: 18\n",
            "\n",
            "Area of Second reactangle is greater  20\n"
          ],
          "name": "stdout"
        }
      ]
    }
  ]
}