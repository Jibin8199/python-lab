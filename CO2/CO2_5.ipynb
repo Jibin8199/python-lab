{
  "nbformat": 4,
  "nbformat_minor": 0,
  "metadata": {
    "colab": {
      "name": "CO2_5.ipynb",
      "provenance": [],
      "authorship_tag": "ABX9TyMFEzoaNCzflxJyGLtf00jr",
      "include_colab_link": true
    },
    "kernelspec": {
      "name": "python3",
      "display_name": "Python 3"
    },
    "language_info": {
      "name": "python"
    }
  },
  "cells": [
    {
      "cell_type": "markdown",
      "metadata": {
        "id": "view-in-github",
        "colab_type": "text"
      },
      "source": [
        "<a href=\"https://colab.research.google.com/github/Jibin8199/python-program/blob/main/CO2_5.ipynb\" target=\"_parent\"><img src=\"https://colab.research.google.com/assets/colab-badge.svg\" alt=\"Open In Colab\"/></a>"
      ]
    },
    {
      "cell_type": "code",
      "metadata": {
        "colab": {
          "base_uri": "https://localhost:8080/"
        },
        "id": "3UATfMTJK22q",
        "outputId": "31ace83d-c1d8-4d01-e395-1ef35b8cb69b"
      },
      "source": [
        "\"\"\"Display the given pyramid with step number accepted from user.\n",
        "    Eg: N=4\n",
        "    1\n",
        "    2 4\n",
        "    3 6 9\n",
        "    4 8 12\"\"\" \n",
        "    \n",
        "n=int(input(\"Enter the number of steps:\"))\n",
        "for i in range(1,n+1):\n",
        "  for j in range(1,i+1):\n",
        "    print(i*j,\" \",end=\"\")\n",
        "  print()"
      ],
      "execution_count": 3,
      "outputs": [
        {
          "output_type": "stream",
          "text": [
            "Enter the number of steps:4\n",
            "1  \n",
            "2  4  \n",
            "3  6  9  \n",
            "4  8  12  16  \n"
          ],
          "name": "stdout"
        }
      ]
    }
  ]
}