{
  "nbformat": 4,
  "nbformat_minor": 0,
  "metadata": {
    "colab": {
      "name": "CO2_10.ipynb",
      "provenance": [],
      "authorship_tag": "ABX9TyP4UfCtcAK8CNPQUH1cSlW0",
      "include_colab_link": true
    },
    "kernelspec": {
      "name": "python3",
      "display_name": "Python 3"
    },
    "language_info": {
      "name": "python"
    }
  },
  "cells": [
    {
      "cell_type": "markdown",
      "metadata": {
        "id": "view-in-github",
        "colab_type": "text"
      },
      "source": [
        "<a href=\"https://colab.research.google.com/github/Jibin8199/python-program/blob/main/CO2_10.ipynb\" target=\"_parent\"><img src=\"https://colab.research.google.com/assets/colab-badge.svg\" alt=\"Open In Colab\"/></a>"
      ]
    },
    {
      "cell_type": "code",
      "metadata": {
        "colab": {
          "base_uri": "https://localhost:8080/"
        },
        "id": "yrNCQ5pAn6Pe",
        "outputId": "9c754ec9-6652-4b0b-8bf6-9834e44e7525"
      },
      "source": [
        "#10. Generate all factors of a number. \n",
        "n=int(input(\"Enter a number:\"))\n",
        "print(\"The factors of the number:\")\n",
        "for x in range(1,n+1):\n",
        "    if n%x==0:\n",
        "        print(x,\" \",end=\"\")"
      ],
      "execution_count": 2,
      "outputs": [
        {
          "output_type": "stream",
          "text": [
            "Enter a number:68\n",
            "The factors of the number:\n",
            "1  2  4  17  34  68  "
          ],
          "name": "stdout"
        }
      ]
    }
  ]
}