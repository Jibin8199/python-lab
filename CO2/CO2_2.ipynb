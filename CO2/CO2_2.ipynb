{
  "nbformat": 4,
  "nbformat_minor": 0,
  "metadata": {
    "colab": {
      "name": "CO2_2.ipynb",
      "provenance": [],
      "authorship_tag": "ABX9TyPZc1i9s6u+1z0YCxLi+N2E",
      "include_colab_link": true
    },
    "kernelspec": {
      "name": "python3",
      "display_name": "Python 3"
    }
  },
  "cells": [
    {
      "cell_type": "markdown",
      "metadata": {
        "id": "view-in-github",
        "colab_type": "text"
      },
      "source": [
        "<a href=\"https://colab.research.google.com/github/Jibin8199/python-program/blob/main/CO2_2.ipynb\" target=\"_parent\"><img src=\"https://colab.research.google.com/assets/colab-badge.svg\" alt=\"Open In Colab\"/></a>"
      ]
    },
    {
      "cell_type": "code",
      "metadata": {
        "colab": {
          "base_uri": "https://localhost:8080/"
        },
        "id": "umiHjQUErmoH",
        "outputId": "31d028ca-2f36-4ae6-d31e-a35e26d98dee"
      },
      "source": [
        "#2. Generate Fibonacci series of N terms \r\n",
        "\r\n",
        "n=int(input(\"Enter the limit:\"))\r\n",
        "if n<0:\r\n",
        "  print(\"please enter a whole number as limit\")\r\n",
        "  n=int(input(\"Enter the number limit:\"))\r\n",
        "frst=0\r\n",
        "scnd=1\r\n",
        "thrd=1\r\n",
        "print(\"Fibonacci series of\",n,\"terms\")\r\n",
        "if(n>=1):\r\n",
        "  print(frst)\r\n",
        "if(n>=2):\r\n",
        "  print(scnd)\r\n",
        "for i in range(3,n+1):\r\n",
        "  print(thrd)\r\n",
        "  frst=scnd\r\n",
        "  scnd=thrd\r\n",
        "  thrd=frst+scnd"
      ],
      "execution_count": 3,
      "outputs": [
        {
          "output_type": "stream",
          "text": [
            "Enter the limit:2\n",
            "Fibonacci series of 2 terms\n",
            "0\n",
            "1\n"
          ],
          "name": "stdout"
        }
      ]
    }
  ]
}