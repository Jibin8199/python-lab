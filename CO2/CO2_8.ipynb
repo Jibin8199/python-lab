{
  "nbformat": 4,
  "nbformat_minor": 0,
  "metadata": {
    "colab": {
      "name": "CO2_8.ipynb",
      "provenance": [],
      "authorship_tag": "ABX9TyO9btTFHKKIoMmoev++eTtI",
      "include_colab_link": true
    },
    "kernelspec": {
      "name": "python3",
      "display_name": "Python 3"
    },
    "language_info": {
      "name": "python"
    }
  },
  "cells": [
    {
      "cell_type": "markdown",
      "metadata": {
        "id": "view-in-github",
        "colab_type": "text"
      },
      "source": [
        "<a href=\"https://colab.research.google.com/github/Jibin8199/python-program/blob/main/CO2_8.ipynb\" target=\"_parent\"><img src=\"https://colab.research.google.com/assets/colab-badge.svg\" alt=\"Open In Colab\"/></a>"
      ]
    },
    {
      "cell_type": "code",
      "metadata": {
        "colab": {
          "base_uri": "https://localhost:8080/"
        },
        "id": "Zid0QrHgU3mY",
        "outputId": "116a9223-61ea-4f1a-bf18-723c3271dc89"
      },
      "source": [
        "#8. Accept a list of words and return length of longest word. \n",
        "wordlist=[]\n",
        "lenlist=[]\n",
        "limit=int(input(\"Enter the limit:\"))\n",
        "print(\"Enter\",limit,\"numbers:\")\n",
        "i=0\n",
        "for i in range(limit):\n",
        "  i=input()\n",
        "  lenlist.append(len(i))\n",
        "  wordlist.append(i)\n",
        "print(\"List of words: \",wordlist)\n",
        "print(\"Length of each word\",lenlist)\n",
        "print(\"Length of longest word:\",max(lenlist))"
      ],
      "execution_count": 2,
      "outputs": [
        {
          "output_type": "stream",
          "text": [
            "Enter the limit:3\n",
            "Enter 3 numbers:\n",
            "jibin\n",
            "dilshad\n",
            "print\n",
            "List of words:  ['jibin', 'dilshad', 'print']\n",
            "Length of each word [5, 7, 5]\n",
            "Length of longest word: 7\n"
          ],
          "name": "stdout"
        }
      ]
    }
  ]
}