{
  "nbformat": 4,
  "nbformat_minor": 0,
  "metadata": {
    "colab": {
      "name": "CO2_7.ipynb",
      "provenance": [],
      "authorship_tag": "ABX9TyNifPpRBKX0cWle99xAoLAr",
      "include_colab_link": true
    },
    "kernelspec": {
      "name": "python3",
      "display_name": "Python 3"
    },
    "language_info": {
      "name": "python"
    }
  },
  "cells": [
    {
      "cell_type": "markdown",
      "metadata": {
        "id": "view-in-github",
        "colab_type": "text"
      },
      "source": [
        "<a href=\"https://colab.research.google.com/github/Jibin8199/python-program/blob/main/CO2_7.ipynb\" target=\"_parent\"><img src=\"https://colab.research.google.com/assets/colab-badge.svg\" alt=\"Open In Colab\"/></a>"
      ]
    },
    {
      "cell_type": "code",
      "metadata": {
        "colab": {
          "base_uri": "https://localhost:8080/"
        },
        "id": "yOfCtOE1QLQN",
        "outputId": "e60c321f-21f9-4e08-9caf-ad891059e2dc"
      },
      "source": [
        "#7. Add ‘ing’ at the end of a given string. If it already ends with ‘ing’, then add ‘ly’\n",
        "s=str(input(\"Enter a string:\"))\n",
        "if s[-3:]==\"ing\":\n",
        "  print(s+\"ly\")\n",
        "else:\n",
        "  print(s+\"ing\")\n"
      ],
      "execution_count": 3,
      "outputs": [
        {
          "output_type": "stream",
          "text": [
            "Enter a string:wining\n",
            "winingly\n"
          ],
          "name": "stdout"
        }
      ]
    }
  ]
}