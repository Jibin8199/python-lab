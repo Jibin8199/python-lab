{
  "nbformat": 4,
  "nbformat_minor": 0,
  "metadata": {
    "colab": {
      "name": "CO2_6.ipynb",
      "provenance": [],
      "collapsed_sections": [],
      "authorship_tag": "ABX9TyNDn6bj9QzX0Nq2DTmqlEgU",
      "include_colab_link": true
    },
    "kernelspec": {
      "name": "python3",
      "display_name": "Python 3"
    },
    "language_info": {
      "name": "python"
    }
  },
  "cells": [
    {
      "cell_type": "markdown",
      "metadata": {
        "id": "view-in-github",
        "colab_type": "text"
      },
      "source": [
        "<a href=\"https://colab.research.google.com/github/Jibin8199/python-program/blob/main/CO2_6.ipynb\" target=\"_parent\"><img src=\"https://colab.research.google.com/assets/colab-badge.svg\" alt=\"Open In Colab\"/></a>"
      ]
    },
    {
      "cell_type": "code",
      "metadata": {
        "colab": {
          "base_uri": "https://localhost:8080/"
        },
        "id": "DT7Y7KxTNMzS",
        "outputId": "64692e10-1a20-48ab-959f-dbeecdb3835c"
      },
      "source": [
        "#6. Count the number of characters (character frequency) in a string. \n",
        "\n",
        "strng=str(input(\"Enter a string:\"))\n",
        "count=0\n",
        "dgt=0\n",
        "splchr=0\n",
        "for i in strng:\n",
        "  if i.isalpha():\n",
        "    count+=1\n",
        "  elif i.isdigit():\n",
        "    dgt+=1\n",
        "  else:\n",
        "    splchr+=1\n",
        "print(\"Frequency of alphabets:\",count)\n",
        "print(\"Frequency of digits:\",dgt)\n",
        "print(\"Frequency of special characters:\",splchr)"
      ],
      "execution_count": 1,
      "outputs": [
        {
          "output_type": "stream",
          "text": [
            "Enter a string:fgj %^56\n",
            "Frequency of alphabets: 3\n",
            "Frequency of digits: 2\n",
            "Frequency of special characters: 3\n"
          ],
          "name": "stdout"
        }
      ]
    }
  ]
}