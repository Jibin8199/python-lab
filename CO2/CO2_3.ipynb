{
  "nbformat": 4,
  "nbformat_minor": 0,
  "metadata": {
    "colab": {
      "name": "CO2_3.ipynb",
      "provenance": [],
      "authorship_tag": "ABX9TyPBfMslZRn37GO+Pe9kiqDu",
      "include_colab_link": true
    },
    "kernelspec": {
      "name": "python3",
      "display_name": "Python 3"
    }
  },
  "cells": [
    {
      "cell_type": "markdown",
      "metadata": {
        "id": "view-in-github",
        "colab_type": "text"
      },
      "source": [
        "<a href=\"https://colab.research.google.com/github/Jibin8199/python-program/blob/main/CO2_3.ipynb\" target=\"_parent\"><img src=\"https://colab.research.google.com/assets/colab-badge.svg\" alt=\"Open In Colab\"/></a>"
      ]
    },
    {
      "cell_type": "code",
      "metadata": {
        "colab": {
          "base_uri": "https://localhost:8080/"
        },
        "id": "W0QIDZoX0i5V",
        "outputId": "23ea2f4b-25ac-471d-a191-dd06424d273e"
      },
      "source": [
        "#3. Find the sum of all items in a list\r\n",
        "\r\n",
        "list=[]\r\n",
        "n=int(input(\"enter the limit:\"))\r\n",
        "print(\"Enter\",n,\"numbers\")\r\n",
        "for x in range(0,n):\r\n",
        "  x=float(input())\r\n",
        "  list.append(x)\r\n",
        "print(\"List of numbers:\",list)\r\n",
        "sum1=sum(list)\r\n",
        "print(\"Sum numbers in the list:\",4sum1)\r\n"
      ],
      "execution_count": 5,
      "outputs": [
        {
          "output_type": "stream",
          "text": [
            "enter the limit:4\n",
            "Enter 4 numbers\n",
            "3\n",
            "4\n",
            "5\n",
            "6\n",
            "List of numbers: [3.0, 4.0, 5.0, 6.0]\n",
            "Sum numbers in the list: 18.0\n"
          ],
          "name": "stdout"
        }
      ]
    }
  ]
}