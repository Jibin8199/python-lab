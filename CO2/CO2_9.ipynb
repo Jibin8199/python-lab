{
  "nbformat": 4,
  "nbformat_minor": 0,
  "metadata": {
    "colab": {
      "name": "CO2_9.ipynb",
      "provenance": [],
      "authorship_tag": "ABX9TyMAcgzn0/fO/4J33rDxPmPA",
      "include_colab_link": true
    },
    "kernelspec": {
      "name": "python3",
      "display_name": "Python 3"
    },
    "language_info": {
      "name": "python"
    }
  },
  "cells": [
    {
      "cell_type": "markdown",
      "metadata": {
        "id": "view-in-github",
        "colab_type": "text"
      },
      "source": [
        "<a href=\"https://colab.research.google.com/github/Jibin8199/python-program/blob/main/CO2_9.ipynb\" target=\"_parent\"><img src=\"https://colab.research.google.com/assets/colab-badge.svg\" alt=\"Open In Colab\"/></a>"
      ]
    },
    {
      "cell_type": "code",
      "metadata": {
        "colab": {
          "base_uri": "https://localhost:8080/"
        },
        "id": "P7ikZ5YFValL",
        "outputId": "8eab8aa1-1cff-4ecb-a0ef-ce13411d55ab"
      },
      "source": [
        "\"\"\"9.Construct following pattern using nested loop\n",
        "*\n",
        "* *\n",
        "* * *\n",
        "* * * *\n",
        "* * * * *\n",
        "* * * *\n",
        "* * *\n",
        "* *\n",
        "*              \"\"\"\n",
        "\n",
        "for i in range(5):\n",
        "        for j in range(i+1):\n",
        "            print(\"*\",\" \",end=\"\")\n",
        "        print()\n",
        "\n",
        "\n",
        "for i in range(4):\n",
        "      for j in range(4-i):\n",
        "          print(\"*\", \" \", end=\"\")\n",
        "      print()"
      ],
      "execution_count": 11,
      "outputs": [
        {
          "output_type": "stream",
          "text": [
            "*  \n",
            "*  *  \n",
            "*  *  *  \n",
            "*  *  *  *  \n",
            "*  *  *  *  *  \n",
            "*  *  *  *  \n",
            "*  *  *  \n",
            "*  *  \n",
            "*  \n"
          ],
          "name": "stdout"
        }
      ]
    }
  ]
}