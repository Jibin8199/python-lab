{
  "nbformat": 4,
  "nbformat_minor": 0,
  "metadata": {
    "colab": {
      "name": "CO2_1.ipynb",
      "provenance": [],
      "authorship_tag": "ABX9TyNVMZC1yjyl4cPeWMiQwV/7",
      "include_colab_link": true
    },
    "kernelspec": {
      "name": "python3",
      "display_name": "Python 3"
    }
  },
  "cells": [
    {
      "cell_type": "markdown",
      "metadata": {
        "id": "view-in-github",
        "colab_type": "text"
      },
      "source": [
        "<a href=\"https://colab.research.google.com/github/Jibin8199/python-program/blob/main/CO2_1.ipynb\" target=\"_parent\"><img src=\"https://colab.research.google.com/assets/colab-badge.svg\" alt=\"Open In Colab\"/></a>"
      ]
    },
    {
      "cell_type": "code",
      "metadata": {
        "colab": {
          "base_uri": "https://localhost:8080/"
        },
        "id": "FO3u6pvWqkFn",
        "outputId": "ab387a8a-caa3-46e1-8ea3-6dd13ef2fbc2"
      },
      "source": [
        "#1. Program to find the factorial of a number \r\n",
        "\r\n",
        "n=int(input(\"Enter the number:\"))\r\n",
        "f=1\r\n",
        "for i in range(1,n+1):\r\n",
        "  f=f*i\r\n",
        "print(n,\"! =\",f)"
      ],
      "execution_count": 5,
      "outputs": [
        {
          "output_type": "stream",
          "text": [
            "Enter the number:2\n",
            "2 ! = 2\n"
          ],
          "name": "stdout"
        }
      ]
    }
  ]
}