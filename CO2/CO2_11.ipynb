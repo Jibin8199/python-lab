{
  "nbformat": 4,
  "nbformat_minor": 0,
  "metadata": {
    "colab": {
      "name": "CO2_11.ipynb",
      "provenance": [],
      "authorship_tag": "ABX9TyPrbCqFD3LKeVb57Cu4wRSU",
      "include_colab_link": true
    },
    "kernelspec": {
      "name": "python3",
      "display_name": "Python 3"
    },
    "language_info": {
      "name": "python"
    }
  },
  "cells": [
    {
      "cell_type": "markdown",
      "metadata": {
        "id": "view-in-github",
        "colab_type": "text"
      },
      "source": [
        "<a href=\"https://colab.research.google.com/github/Jibin8199/python-program/blob/main/CO2_11.ipynb\" target=\"_parent\"><img src=\"https://colab.research.google.com/assets/colab-badge.svg\" alt=\"Open In Colab\"/></a>"
      ]
    },
    {
      "cell_type": "code",
      "metadata": {
        "colab": {
          "base_uri": "https://localhost:8080/"
        },
        "id": "9_uExXWYpp45",
        "outputId": "daec06f1-c2c5-441e-b81b-06ad0b003e91"
      },
      "source": [
        "#11. Write lambda functions to find area of square, rectangle and triangle.\n",
        "\n",
        "s=lambda a:a*a\n",
        "r=lambda l,b:l*b\n",
        "t=lambda b,h:(b*h)/2\n",
        "\n",
        "a=int(input(\"enter the side of square=\"))\n",
        "l=int(input(\"enter the length of rectangle=\"))\n",
        "b=int(input(\"enter the breadth of rectangle=\"))\n",
        "b1=int(input(\"enter the breadth of triangle=\"))\n",
        "h=int(input(\"enter the height of triangle=\"))\n",
        "\n",
        "print(\"area of square=\",s(a))\n",
        "print(\"area of square=\",r(l,b))\n",
        "print(\"area of square=\",t(b1,h))"
      ],
      "execution_count": 1,
      "outputs": [
        {
          "output_type": "stream",
          "text": [
            "enter the side of square=3\n",
            "enter the length of rectangle=4\n",
            "enter the breadth of rectangle=5\n",
            "enter the breadth of triangle=5\n",
            "enter the height of triangle=4\n",
            "area of square= 9\n",
            "area of square= 20\n",
            "area of square= 10.0\n"
          ],
          "name": "stdout"
        }
      ]
    }
  ]
}