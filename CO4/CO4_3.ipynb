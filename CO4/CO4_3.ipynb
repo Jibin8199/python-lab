{
  "nbformat": 4,
  "nbformat_minor": 0,
  "metadata": {
    "colab": {
      "name": "CO4_3.ipynb",
      "provenance": []
    },
    "kernelspec": {
      "name": "python3",
      "display_name": "Python 3"
    },
    "language_info": {
      "name": "python"
    }
  },
  "cells": [
    {
      "cell_type": "code",
      "metadata": {
        "colab": {
          "base_uri": "https://localhost:8080/"
        },
        "id": "52rpcpP5J3-i",
        "outputId": "575a7102-6784-4ae4-f574-21d59e32d80c"
      },
      "source": [
        "\"\"\"3. Create a class Rectangle with private attributes length and width. Overload ‘<’ operator to\n",
        "compare the area of 2 rectangles.  \"\"\"\n",
        "\n",
        "class Rectangle:\n",
        "    length = 0\n",
        "    width = 0\n",
        "    area = 0\n",
        "\n",
        "    def __init__(self, l, w):\n",
        "        self.length = l;\n",
        "        self.width = w;\n",
        "\n",
        "    def area(self):\n",
        "        return self.length * self.width\n",
        "\n",
        "    def __lt__(self, other):\n",
        "        if (self.area < other.area):\n",
        "            return True\n",
        "        else:\n",
        "            return False\n",
        "\n",
        "\n",
        "obj1 = Rectangle(2, 3)\n",
        "obj2 = Rectangle(1, 2)\n",
        "if (obj1.area() < obj2.area()):\n",
        "    print(\"First rectangle is smaller in area\")\n",
        "else:\n",
        "    print(\"Second rectangle is smaller in area\")"
      ],
      "execution_count": 2,
      "outputs": [
        {
          "output_type": "stream",
          "text": [
            "Second rectangle is smaller in area\n"
          ],
          "name": "stdout"
        }
      ]
    }
  ]
}