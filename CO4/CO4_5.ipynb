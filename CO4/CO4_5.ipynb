{
  "nbformat": 4,
  "nbformat_minor": 0,
  "metadata": {
    "colab": {
      "name": "CO4_5.ipynb",
      "provenance": []
    },
    "kernelspec": {
      "name": "python3",
      "display_name": "Python 3"
    },
    "language_info": {
      "name": "python"
    }
  },
  "cells": [
    {
      "cell_type": "code",
      "metadata": {
        "colab": {
          "base_uri": "https://localhost:8080/"
        },
        "id": "WbbpH1T0TyLg",
        "outputId": "1288fc53-b29a-47a6-8c57-f5202bf87d2b"
      },
      "source": [
        "\"\"\"Create a class Publisher (name). Derive class Book from Publisher with attributes title and\n",
        "author. Derive class Python from Book with attributes price and no_of_pages. Write a\n",
        "program that displays information about a Python book. Use base class constructor invocation and\n",
        "method overriding.\"\"\"\n",
        "\n",
        "\n",
        "class Publisher:\n",
        "    def __init__(self, Publname):\n",
        "        self.Publname = Publname\n",
        "\n",
        "    def display(self):\n",
        "        print(\"Publisher name is:\", self.Publname)\n",
        "\n",
        "\n",
        "class Book(Publisher):\n",
        "    def __init__(self, Publname, title, author):\n",
        "        Publisher.__init__(self, Publname)\n",
        "        self.title = title\n",
        "        self.author = author\n",
        "\n",
        "    def display(self):\n",
        "        print(\"Title:\", self.title)\n",
        "        print(\"Author:\", self.author)\n",
        "\n",
        "\n",
        "class Python(Book):\n",
        "    def __init__(self, Publname, title, author, price, no_of_pages):\n",
        "        Book.__init__(self, Publname, title, author)\n",
        "        self.price = price\n",
        "        self.no_of_pages = no_of_pages\n",
        "\n",
        "    def display(self):\n",
        "        print(\"Title:\", self.title)\n",
        "        print(\"Author:\", self.author)\n",
        "        print(\"Publisher:\",self.Publname)\n",
        "        print(\"Price:\", self.price)\n",
        "        print(\"No of pages:\", self.no_of_pages)\n",
        "\n",
        "\n",
        "book1 = Python(\"Khanna Publishers\", \"Taming Python by Programming\", \"Jeeva Jose\", 499, 666)\n",
        "book1.display()"
      ],
      "execution_count": null,
      "outputs": [
        {
          "output_type": "stream",
          "text": [
            "Title: Taming Python by Programming\n",
            "Author: Jeeva Jose\n",
            "Publisher: Khanna Publishers\n",
            "Price: 499\n",
            "No of pages: 666\n"
          ],
          "name": "stdout"
        }
      ]
    }
  ]
}