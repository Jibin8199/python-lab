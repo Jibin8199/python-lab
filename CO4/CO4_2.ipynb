{
  "nbformat": 4,
  "nbformat_minor": 0,
  "metadata": {
    "colab": {
      "name": "CO4_2.ipynb",
      "provenance": []
    },
    "kernelspec": {
      "name": "python3",
      "display_name": "Python 3"
    },
    "language_info": {
      "name": "python"
    }
  },
  "cells": [
    {
      "cell_type": "code",
      "metadata": {
        "id": "q5RMNjPigrZ5",
        "colab": {
          "base_uri": "https://localhost:8080/"
        },
        "outputId": "bc068975-a951-4f8b-9328-df0ed92b0ef4"
      },
      "source": [
        "\"\"\" 2. Create a Bank account with members account number, name, type of account and balance.\n",
        "Write constructor and methods to deposit at the bank and withdraw an amount from the bank. \"\"\"\n",
        "\n",
        "class Bankaccount:\n",
        "    def __init__(self):\n",
        "        accno = float(input(\"Enter Account Number: \"))\n",
        "        name = str(input(\"Enter name of Account Holder:\"))\n",
        "        typeofacc = str(input(\"Enter Type of Account:\"))\n",
        "        self.balance = 0\n",
        "\n",
        "    def deposit(self):\n",
        "        amount = float(input(\"\\nEnter amount to be deposited: \"))\n",
        "        self.balance += amount\n",
        "        print(\"\\n Amount Deposited:\", amount)\n",
        "\n",
        "    def withdraw(self):\n",
        "        amount = float(input(\"\\nEnter amount to be withdrawn: \"))\n",
        "        if self.balance >= amount:\n",
        "            self.balance -= amount\n",
        "            print(\"\\n You Withdrew:\", amount)\n",
        "        else:\n",
        "            print(\"\\n Insufficient balance \")\n",
        "\n",
        "    def display(self):\n",
        "        print(\"\\nAvailable balance is:\", self.balance)\n",
        "\n",
        "\n",
        "s = Bankaccount()\n",
        "s.deposit()\n",
        "s.withdraw()\n",
        "s.display()"
      ],
      "execution_count": 1,
      "outputs": [
        {
          "output_type": "stream",
          "text": [
            "Enter Account Number: 001\n",
            "Enter name of Account Holder:abc\n",
            "Enter Type of Account:sb\n",
            "\n",
            "Enter amount to be deposited: 900\n",
            "\n",
            " Amount Deposited: 900.0\n",
            "\n",
            "Enter amount to be withdrawn: 400\n",
            "\n",
            " You Withdrew: 400.0\n",
            "\n",
            "Available balance is: 500.0\n"
          ],
          "name": "stdout"
        }
      ]
    }
  ]
}