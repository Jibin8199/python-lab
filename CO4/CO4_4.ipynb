{
  "nbformat": 4,
  "nbformat_minor": 0,
  "metadata": {
    "colab": {
      "name": "CO4_4.ipynb",
      "provenance": []
    },
    "kernelspec": {
      "name": "python3",
      "display_name": "Python 3"
    },
    "language_info": {
      "name": "python"
    }
  },
  "cells": [
    {
      "cell_type": "code",
      "metadata": {
        "colab": {
          "base_uri": "https://localhost:8080/"
        },
        "id": "m60xA3ZuRVyY",
        "outputId": "5ecc7953-3433-4ca6-fad9-d20c47bd1a5b"
      },
      "source": [
        "\"\"\"4. Create a class Time with private attributes hour, minute and second. Overload ‘+’ operator to\n",
        "find sum of 2 time. \"\"\"\n",
        "\n",
        "class time:\n",
        "    def __init__(self,h,m,s):\n",
        "        self.__h=h\n",
        "        self.__m=m\n",
        "        self.__s=s\n",
        "\n",
        "    def __add__(self,obj):\n",
        "        self.__h += obj.__h\n",
        "        self.__m += obj.__m\n",
        "        self.__s += obj.__s\n",
        "\n",
        "        if(self.__s>=60):\n",
        "            extra_minute =  int(self.__s/60)\n",
        "            self.__s = self.__s%60\n",
        "            self.__m += extra_minute\n",
        "\n",
        "        if (self.__m >= 60):\n",
        "            extra_hour = int(self.__m / 60)\n",
        "            self.__m = self.__m % 60\n",
        "            self.__h += extra_hour\n",
        "\n",
        "        return \"sum of 2 times= \"+str(self.__h)+\"h:\"+str(self.__m)+\"m:\"+str(self.__s) +\"s\"\n",
        "print(\"Time1=5h:24m:43s\")\n",
        "print(\"Time2=7h:44m:14s\")\n",
        "obj1 = time(5,24,43)\n",
        "obj2  = time(7,44,14)\n",
        "\n",
        "print(obj1+obj2)"
      ],
      "execution_count": null,
      "outputs": [
        {
          "output_type": "stream",
          "text": [
            "Time1=5h:24m:43s\n",
            "Time2=7h:44m:14s\n",
            "sum of 2 times= 13h:8m:57s\n"
          ],
          "name": "stdout"
        }
      ]
    }
  ]
}