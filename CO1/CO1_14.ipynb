{
  "nbformat": 4,
  "nbformat_minor": 0,
  "metadata": {
    "colab": {
      "name": "CO1_14.ipynb",
      "provenance": [],
      "authorship_tag": "ABX9TyMQpTlW8LY3YNxyBfvk7SP5",
      "include_colab_link": true
    },
    "kernelspec": {
      "name": "python3",
      "display_name": "Python 3"
    }
  },
  "cells": [
    {
      "cell_type": "markdown",
      "metadata": {
        "id": "view-in-github",
        "colab_type": "text"
      },
      "source": [
        "<a href=\"https://colab.research.google.com/github/Jibin8199/python-program/blob/main/CO1_14.ipynb\" target=\"_parent\"><img src=\"https://colab.research.google.com/assets/colab-badge.svg\" alt=\"Open In Colab\"/></a>"
      ]
    },
    {
      "cell_type": "code",
      "metadata": {
        "colab": {
          "base_uri": "https://localhost:8080/"
        },
        "id": "tzsuz9b2smSD",
        "outputId": "7015d54b-5afa-4e2e-fc6f-1fc23f61354f"
      },
      "source": [
        "#14. Accept an integer n and compute n+nn+nnn.\r\n",
        "n=int(input(\"Enter the Number,n=\"))\r\n",
        "nn=n+(n*10)\r\n",
        "nnn=n+(nn*10)\r\n",
        "print(\"n+nn+nnn =\",n,\"+\",nn,\"+\",nnn,\"=\",n+nn+nnn)"
      ],
      "execution_count": 3,
      "outputs": [
        {
          "output_type": "stream",
          "text": [
            "Enter the Number,n=4\n",
            "n+nn+nnn = 4 + 44 + 444 = 492\n"
          ],
          "name": "stdout"
        }
      ]
    }
  ]
}