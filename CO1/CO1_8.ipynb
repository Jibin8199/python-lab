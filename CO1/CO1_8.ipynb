{
  "nbformat": 4,
  "nbformat_minor": 0,
  "metadata": {
    "colab": {
      "name": "CO1_8.ipynb",
      "provenance": [],
      "authorship_tag": "ABX9TyPFMfpLEWivG1VJspFmvWVd",
      "include_colab_link": true
    },
    "kernelspec": {
      "name": "python3",
      "display_name": "Python 3"
    }
  },
  "cells": [
    {
      "cell_type": "markdown",
      "metadata": {
        "id": "view-in-github",
        "colab_type": "text"
      },
      "source": [
        "<a href=\"https://colab.research.google.com/github/Jibin8199/python-program/blob/main/CO1_8.ipynb\" target=\"_parent\"><img src=\"https://colab.research.google.com/assets/colab-badge.svg\" alt=\"Open In Colab\"/></a>"
      ]
    },
    {
      "cell_type": "code",
      "metadata": {
        "colab": {
          "base_uri": "https://localhost:8080/"
        },
        "id": "uxPm7nCHcVT-",
        "outputId": "7f8b4a67-76f7-476a-90fe-0b8c436702c5"
      },
      "source": [
        "#8. Get a string from an input string where all occurrences of first character replaced with ‘$’, except first character.\r\n",
        "\r\n",
        "txt=str(input(\"Enter a word:\"))\r\n",
        "txt1=txt\r\n",
        "frst=txt[0]\r\n",
        "txt=txt.replace(frst,\"$\")\r\n",
        "txt=frst+txt[1:]\r\n",
        "print(txt1,\"-->\",txt)"
      ],
      "execution_count": 1,
      "outputs": [
        {
          "output_type": "stream",
          "text": [
            "Enter a word:onion\n",
            "onion --> oni$n\n"
          ],
          "name": "stdout"
        }
      ]
    }
  ]
}