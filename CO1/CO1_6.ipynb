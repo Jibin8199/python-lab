{
  "nbformat": 4,
  "nbformat_minor": 0,
  "metadata": {
    "colab": {
      "name": "CO1_6.ipynb",
      "provenance": [],
      "authorship_tag": "ABX9TyMI+0SdvXigwo6fhd6VEmQ2",
      "include_colab_link": true
    },
    "kernelspec": {
      "name": "python3",
      "display_name": "Python 3"
    }
  },
  "cells": [
    {
      "cell_type": "markdown",
      "metadata": {
        "id": "view-in-github",
        "colab_type": "text"
      },
      "source": [
        "<a href=\"https://colab.research.google.com/github/Jibin8199/python-program/blob/main/CO1_6.ipynb\" target=\"_parent\"><img src=\"https://colab.research.google.com/assets/colab-badge.svg\" alt=\"Open In Colab\"/></a>"
      ]
    },
    {
      "cell_type": "code",
      "metadata": {
        "colab": {
          "base_uri": "https://localhost:8080/"
        },
        "id": "dT9LYjZ3FNyp",
        "outputId": "dbbaa60d-e7c6-4889-d619-3e80e3c09d12"
      },
      "source": [
        "#6.Store a list of first names. Count the occurrences of ‘a’ within the list\r\n",
        "\r\n",
        "namlist=[]\r\n",
        "str1=\"\"\r\n",
        "count=0\r\n",
        "n=int(input(\"Enter the number of first names:\"))\r\n",
        "print(\"Enter\",n,\"first names:\")\r\n",
        "for i in range(n):\r\n",
        "  name=str(input())\r\n",
        "  namlist.append(name)\r\n",
        "print(namlist)\r\n",
        "for ele in namlist:  \r\n",
        "  str1 += ele \r\n",
        "for x in str1:\r\n",
        "  if x==\"a\":\r\n",
        "    count+=1\r\n",
        "print(\"Occurance of 'a' is \",count)\r\n"
      ],
      "execution_count": null,
      "outputs": [
        {
          "output_type": "stream",
          "text": [
            "Enter the number of first names:3\n",
            "Enter 3 first names:\n",
            "sanup anoop\n",
            "manu\n",
            "anu\n",
            "['sanup anoop', 'manu', 'anu']\n",
            "Occurance of 'a' is  4\n"
          ],
          "name": "stdout"
        }
      ]
    }
  ]
}