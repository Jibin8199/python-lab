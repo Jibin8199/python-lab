{
  "nbformat": 4,
  "nbformat_minor": 0,
  "metadata": {
    "colab": {
      "name": "CO1_4.ipynb",
      "provenance": [],
      "authorship_tag": "ABX9TyPoqvvthbU/OLgjDf9p13XK",
      "include_colab_link": true
    },
    "kernelspec": {
      "name": "python3",
      "display_name": "Python 3"
    }
  },
  "cells": [
    {
      "cell_type": "markdown",
      "metadata": {
        "id": "view-in-github",
        "colab_type": "text"
      },
      "source": [
        "<a href=\"https://colab.research.google.com/github/Jibin8199/python-program/blob/main/CO1_4.ipynb\" target=\"_parent\"><img src=\"https://colab.research.google.com/assets/colab-badge.svg\" alt=\"Open In Colab\"/></a>"
      ]
    },
    {
      "cell_type": "code",
      "metadata": {
        "colab": {
          "base_uri": "https://localhost:8080/"
        },
        "id": "_BdxiI5LAS6V",
        "outputId": "5e204255-fa8f-40bd-dbb1-261420f55d53"
      },
      "source": [
        "#4. Count the occurrences of each word in a line of text. \r\n",
        "\r\n",
        "strng=str(input(\"Type a string: \"))\r\n",
        "count=dict()\r\n",
        "words= strng.split()\r\n",
        "print(words)\r\n",
        "for word in words:\r\n",
        "        if word in count:\r\n",
        "            count[word] += 1\r\n",
        "        else:\r\n",
        "            count[word] = 1\r\n",
        "print(\"occurance of each words\")\r\n",
        "print(count)"
      ],
      "execution_count": null,
      "outputs": [
        {
          "output_type": "stream",
          "text": [
            "Type a string: I am a Boy I am a\n",
            "['I', 'am', 'a', 'Boy', 'I', 'am', 'a']\n",
            "occurance of each words\n",
            "{'I': 2, 'am': 2, 'a': 2, 'Boy': 1}\n"
          ],
          "name": "stdout"
        }
      ]
    }
  ]
}