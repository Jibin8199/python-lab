{
  "nbformat": 4,
  "nbformat_minor": 0,
  "metadata": {
    "colab": {
      "name": "CO1_9.ipynb",
      "provenance": [],
      "authorship_tag": "ABX9TyOTh8iEnVZfeFwyQR8IdNcC",
      "include_colab_link": true
    },
    "kernelspec": {
      "name": "python3",
      "display_name": "Python 3"
    }
  },
  "cells": [
    {
      "cell_type": "markdown",
      "metadata": {
        "id": "view-in-github",
        "colab_type": "text"
      },
      "source": [
        "<a href=\"https://colab.research.google.com/github/Jibin8199/python-program/blob/main/CO1_9.ipynb\" target=\"_parent\"><img src=\"https://colab.research.google.com/assets/colab-badge.svg\" alt=\"Open In Colab\"/></a>"
      ]
    },
    {
      "cell_type": "code",
      "metadata": {
        "colab": {
          "base_uri": "https://localhost:8080/"
        },
        "id": "_4K6wI0nc8Zi",
        "outputId": "632fa8d1-5868-4692-be0c-8a22d44bca26"
      },
      "source": [
        "#9. Create a string from given string where first and last characters exchanged.\r\n",
        " \r\n",
        "strng=str(input(\"Enter a word:\"))\r\n",
        "strngcopy=strng\r\n",
        "strng=strng[-1:] + strng[1:-1] + strng[:1]\r\n",
        "print(strngcopy,\"->\",strng)"
      ],
      "execution_count": 1,
      "outputs": [
        {
          "output_type": "stream",
          "text": [
            "Enter a word:Aami\n",
            "Aami -> iamA\n"
          ],
          "name": "stdout"
        }
      ]
    }
  ]
}