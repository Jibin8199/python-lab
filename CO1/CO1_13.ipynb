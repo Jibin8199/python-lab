{
  "nbformat": 4,
  "nbformat_minor": 0,
  "metadata": {
    "colab": {
      "name": "CO1_13.ipynb",
      "provenance": [],
      "authorship_tag": "ABX9TyNJaooc3cxt7Gvege80xSLi",
      "include_colab_link": true
    },
    "kernelspec": {
      "name": "python3",
      "display_name": "Python 3"
    }
  },
  "cells": [
    {
      "cell_type": "markdown",
      "metadata": {
        "id": "view-in-github",
        "colab_type": "text"
      },
      "source": [
        "<a href=\"https://colab.research.google.com/github/Jibin8199/python-program/blob/main/CO1_13.ipynb\" target=\"_parent\"><img src=\"https://colab.research.google.com/assets/colab-badge.svg\" alt=\"Open In Colab\"/></a>"
      ]
    },
    {
      "cell_type": "code",
      "metadata": {
        "colab": {
          "base_uri": "https://localhost:8080/"
        },
        "id": "7m0Ysl7UmNFW",
        "outputId": "3e4b843c-a811-45c6-e2a7-78567a899983"
      },
      "source": [
        "clrname=input(\"Enter the color names separated by comma (,) :\")\r\n",
        "clrlist=clrname.split(\",\")\r\n",
        "print(\"First color is\",clrlist[0])\r\n",
        "print(\"Last color is\",clrlist[-1])"
      ],
      "execution_count": 3,
      "outputs": [
        {
          "output_type": "stream",
          "text": [
            "Enter the color names separated by comma (,) :Red,Blue,Black,Pink\n",
            "First color is Red\n",
            "Last color is Pink\n"
          ],
          "name": "stdout"
        }
      ]
    }
  ]
}