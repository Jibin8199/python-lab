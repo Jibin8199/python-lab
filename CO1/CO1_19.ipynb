{
  "nbformat": 4,
  "nbformat_minor": 0,
  "metadata": {
    "colab": {
      "name": "CO1_19.ipynb",
      "provenance": [],
      "authorship_tag": "ABX9TyMybWAcZMTWPVwg+3cOMJtw",
      "include_colab_link": true
    },
    "kernelspec": {
      "name": "python3",
      "display_name": "Python 3"
    }
  },
  "cells": [
    {
      "cell_type": "markdown",
      "metadata": {
        "id": "view-in-github",
        "colab_type": "text"
      },
      "source": [
        "<a href=\"https://colab.research.google.com/github/Jibin8199/python-program/blob/main/CO1_19.ipynb\" target=\"_parent\"><img src=\"https://colab.research.google.com/assets/colab-badge.svg\" alt=\"Open In Colab\"/></a>"
      ]
    },
    {
      "cell_type": "code",
      "metadata": {
        "id": "ylGl6_1kVOzX",
        "colab": {
          "base_uri": "https://localhost:8080/"
        },
        "outputId": "12721fc2-d407-49ee-97ff-a22ac14793e2"
      },
      "source": [
        "#19. Find gcd of 2 numbers. \r\n",
        "\r\n",
        "a=int(input(\"Enter the first number: \"))\r\n",
        "b=int(input(\"Enter the second number: \"))\r\n",
        "i=1\r\n",
        "min=min(a,b)\r\n",
        "while (i<=min):\r\n",
        "  if (a%i==0 and b%i==0):\r\n",
        "    gcd=i\r\n",
        "  i+=1\r\n",
        "print(\"GCD of\",a,\"and\",b,\"is\",gcd)"
      ],
      "execution_count": 1,
      "outputs": [
        {
          "output_type": "stream",
          "text": [
            "Enter the first number: 56\n",
            "Enter the second number: 98\n",
            "GCD of 56 and 98 is 14\n"
          ],
          "name": "stdout"
        }
      ]
    }
  ]
}