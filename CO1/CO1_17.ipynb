{
  "nbformat": 4,
  "nbformat_minor": 0,
  "metadata": {
    "colab": {
      "name": "CO1_17.ipynb",
      "provenance": [],
      "authorship_tag": "ABX9TyNso2fPHrHrNesaoUURY7aU",
      "include_colab_link": true
    },
    "kernelspec": {
      "name": "python3",
      "display_name": "Python 3"
    },
    "language_info": {
      "name": "python"
    }
  },
  "cells": [
    {
      "cell_type": "markdown",
      "metadata": {
        "id": "view-in-github",
        "colab_type": "text"
      },
      "source": [
        "<a href=\"https://colab.research.google.com/github/Jibin8199/python-program/blob/main/CO1_17.ipynb\" target=\"_parent\"><img src=\"https://colab.research.google.com/assets/colab-badge.svg\" alt=\"Open In Colab\"/></a>"
      ]
    },
    {
      "cell_type": "code",
      "metadata": {
        "colab": {
          "base_uri": "https://localhost:8080/"
        },
        "id": "EVEJEvqYs74W",
        "outputId": "407d032a-1375-4cb9-dd4f-345d83751114"
      },
      "source": [
        "#17. Sort dictionary in ascending and descending order.\n",
        "d={\"a\":1,\"c\":5,\"b\":2,\"e\":8,\"f\":4}\n",
        "\n",
        "#sorting by \"key\"\n",
        "print(\"ASCENDING ORDER : \",sorted(d.items()))\n",
        "print(\"DESCENDING ORDER : \", sorted(d.items(),reverse=True))\n",
        "\n",
        "#sorting by \"value\"\n",
        "\n",
        "import operator\n",
        "dict1=sorted(d.items(),key=operator.itemgetter(1),reverse=True)\n",
        "print(\"Descending order:\",dict1)\n",
        "dict1=sorted(d.items(),key=operator.itemgetter(1),reverse=False)\n",
        "print(\"Ascending order:\",dict1)\n"
      ],
      "execution_count": 1,
      "outputs": [
        {
          "output_type": "stream",
          "text": [
            "ASCENDING ORDER :  [('a', 1), ('b', 2), ('c', 5), ('e', 8), ('f', 4)]\n",
            "DESCENDING ORDER :  [('f', 4), ('e', 8), ('c', 5), ('b', 2), ('a', 1)]\n",
            "Descending order: [('e', 8), ('c', 5), ('f', 4), ('b', 2), ('a', 1)]\n",
            "Ascending order: [('a', 1), ('b', 2), ('f', 4), ('c', 5), ('e', 8)]\n"
          ],
          "name": "stdout"
        }
      ]
    }
  ]
}