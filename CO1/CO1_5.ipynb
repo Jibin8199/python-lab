{
  "nbformat": 4,
  "nbformat_minor": 0,
  "metadata": {
    "colab": {
      "name": "CO1_5.ipynb",
      "provenance": [],
      "authorship_tag": "ABX9TyMqyIKQpFPfR496hfMQXrro",
      "include_colab_link": true
    },
    "kernelspec": {
      "name": "python3",
      "display_name": "Python 3"
    }
  },
  "cells": [
    {
      "cell_type": "markdown",
      "metadata": {
        "id": "view-in-github",
        "colab_type": "text"
      },
      "source": [
        "<a href=\"https://colab.research.google.com/github/Jibin8199/python-program/blob/main/CO1_5.ipynb\" target=\"_parent\"><img src=\"https://colab.research.google.com/assets/colab-badge.svg\" alt=\"Open In Colab\"/></a>"
      ]
    },
    {
      "cell_type": "code",
      "metadata": {
        "colab": {
          "base_uri": "https://localhost:8080/"
        },
        "id": "NPq9bQInDaTd",
        "outputId": "862a023e-8e74-42d6-f251-97ea83c6b364"
      },
      "source": [
        " #5.Prompt the user for a list of integers. For all values greater than 100, store ‘over’ instead.\r\n",
        "\r\n",
        "list=[]\r\n",
        "lim=int(input(\"Enter the number of numbers:\"))\r\n",
        "print(\"Enter\",lim,\"numbers :\")\r\n",
        "for i in range(1,lim+1):\r\n",
        "  num=int(input())\r\n",
        "  if num>100:\r\n",
        "    list.append(\"Over\")\r\n",
        "  else:\r\n",
        "    list.append(num)\r\n",
        "print(list)"
      ],
      "execution_count": null,
      "outputs": [
        {
          "output_type": "stream",
          "text": [
            "Enter the number of numbers:4\n",
            "Enter 4 numbers :\n",
            "56\n",
            "107\n",
            "187\n",
            "45\n",
            "[56, 'Over', 'Over', 45]\n"
          ],
          "name": "stdout"
        }
      ]
    }
  ]
}