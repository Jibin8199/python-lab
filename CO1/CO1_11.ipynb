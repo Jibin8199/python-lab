{
  "nbformat": 4,
  "nbformat_minor": 0,
  "metadata": {
    "colab": {
      "name": "CO1_11.ipynb",
      "provenance": [],
      "authorship_tag": "ABX9TyO/sz5kbQsefOm2lw4oImI+",
      "include_colab_link": true
    },
    "kernelspec": {
      "name": "python3",
      "display_name": "Python 3"
    }
  },
  "cells": [
    {
      "cell_type": "markdown",
      "metadata": {
        "id": "view-in-github",
        "colab_type": "text"
      },
      "source": [
        "<a href=\"https://colab.research.google.com/github/Jibin8199/python-program/blob/main/CO1_11.ipynb\" target=\"_parent\"><img src=\"https://colab.research.google.com/assets/colab-badge.svg\" alt=\"Open In Colab\"/></a>"
      ]
    },
    {
      "cell_type": "code",
      "metadata": {
        "colab": {
          "base_uri": "https://localhost:8080/"
        },
        "id": "DGGzutm_fevw",
        "outputId": "fc2278e9-36e0-42c3-f1bf-9326405828b2"
      },
      "source": [
        "#11.Find biggest of 3 numbers entered.\r\n",
        " \r\n",
        "num1=float(input('Enter the first number: '))\r\n",
        "num2=float(input('Enter the second number: '))\r\n",
        "num3=float(input('Enter the third number: '))\r\n",
        "if num1>num2:\r\n",
        "  if num1>num3:\r\n",
        "    print(num1,'is the largest number')\r\n",
        "  else:\r\n",
        "    print(num3,'is the largest number')\r\n",
        "else:\r\n",
        "  if num2>num3:\r\n",
        "    print(num2,'is the largest number')\r\n",
        "  else:\r\n",
        "    print(num3,'is the largest number')                                    "
      ],
      "execution_count": 1,
      "outputs": [
        {
          "output_type": "stream",
          "text": [
            "Enter the first number: 5\n",
            "Enter the second number: 3\n",
            "Enter the third number: 4\n",
            "5.0 is the largest number\n"
          ],
          "name": "stdout"
        }
      ]
    }
  ]
}