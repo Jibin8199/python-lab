{
  "nbformat": 4,
  "nbformat_minor": 0,
  "metadata": {
    "colab": {
      "name": "CO1_3.ipynb",
      "provenance": [],
      "collapsed_sections": [],
      "authorship_tag": "ABX9TyPIxYaH+UsKxwYj8EIGI/r/",
      "include_colab_link": true
    },
    "kernelspec": {
      "name": "python3",
      "display_name": "Python 3"
    }
  },
  "cells": [
    {
      "cell_type": "markdown",
      "metadata": {
        "id": "view-in-github",
        "colab_type": "text"
      },
      "source": [
        "<a href=\"https://colab.research.google.com/github/Jibin8199/python-program/blob/main/CO1_3.ipynb\" target=\"_parent\"><img src=\"https://colab.research.google.com/assets/colab-badge.svg\" alt=\"Open In Colab\"/></a>"
      ]
    },
    {
      "cell_type": "code",
      "metadata": {
        "id": "pQYACTOVKh7Z"
      },
      "source": [
        ""
      ],
      "execution_count": null,
      "outputs": []
    },
    {
      "cell_type": "code",
      "metadata": {
        "colab": {
          "base_uri": "https://localhost:8080/"
        },
        "id": "Q4qqPA6KTDYS",
        "outputId": "76c6c81e-835a-4cea-e629-a971db254f18"
      },
      "source": [
        "#3. List comprehensions:\n",
        " \n",
        "#Generate positive list of numbers from a given list of integers \n",
        " \n",
        "numlist=[-10,2,-5,6,-5,7]\n",
        "poslist=[x for x in numlist if x>0]\n",
        "print(numlist5)\n",
        "print(\"List of positive integers:\",poslist)\n",
        " \n",
        "#Square of N numbers\n",
        " \n",
        "list=[]\n",
        "n=int(input(\"Enter the number of numbers:\"))\n",
        "print(\"Enter \",n,\"numbers:\")\n",
        "for x in range(n):\n",
        "  x=float(input())\n",
        "  list.append(x)\n",
        "print(list)\n",
        "sqlist=[x**2 for x in list]\n",
        "print(\"Square of Numbers:\",sqlist)\n",
        " \n",
        "#Form a list of vowels selected from a given word .\n",
        " \n",
        "vowels=['A','E','I','O','U','a','e','i','o','u']\n",
        "word=str(input(\"Enter a word: \"))\n",
        "vlist=[x for x in word if x in vowels]\n",
        "print(\"list of vowels in\",word,\":\",vlist)\n",
        " \n",
        "# List ordinal value of each element of a word\n",
        " \n",
        "ordword=str(input(\"Enter a word: \"))\n",
        "ordlist=[ord(x) for x in ordword]\n",
        "print(\"Ordinal values of\",ordword,\"is\",ordlist)"
      ],
      "execution_count": null,
      "outputs": [
        {
          "output_type": "stream",
          "text": [
            "[-10, 2, -5, 6, -5, 7]\n",
            "List of positive integers: [2, 6, 7]\n",
            "Enter the number of numbers:4\n",
            "Enter  4 numbers:\n",
            "4\n",
            "5\n",
            "6\n",
            "7\n",
            "[4.0, 5.0, 6.0, 7.0]\n",
            "Square of Numbers: [16.0, 25.0, 36.0, 49.0]\n",
            "Enter a word: Ele\n",
            "list of vowels in Ele : ['E', 'e']\n",
            "Enter a word: ele\n",
            "Ordinal values of ele is [101, 108, 101]\n"
          ],
          "name": "stdout"
        }
      ]
    }
  ]
}