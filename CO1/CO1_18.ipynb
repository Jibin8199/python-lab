{
  "nbformat": 4,
  "nbformat_minor": 0,
  "metadata": {
    "colab": {
      "name": "CO1_18.ipynb",
      "provenance": [],
      "authorship_tag": "ABX9TyPngTi558HaJ0KbwjplmpCd",
      "include_colab_link": true
    },
    "kernelspec": {
      "name": "python3",
      "display_name": "Python 3"
    }
  },
  "cells": [
    {
      "cell_type": "markdown",
      "metadata": {
        "id": "view-in-github",
        "colab_type": "text"
      },
      "source": [
        "<a href=\"https://colab.research.google.com/github/Jibin8199/python-program/blob/main/CO1_18.ipynb\" target=\"_parent\"><img src=\"https://colab.research.google.com/assets/colab-badge.svg\" alt=\"Open In Colab\"/></a>"
      ]
    },
    {
      "cell_type": "code",
      "metadata": {
        "colab": {
          "base_uri": "https://localhost:8080/"
        },
        "id": "RveJplQ0BBg0",
        "outputId": "943442e1-10f2-4a84-83ad-65dd2d8cdd9c"
      },
      "source": [
        "#18. Merge two dictionaries\r\n",
        "dic1={\"a\":34,\"b\":44,\"c\":56,\"d\":100}\r\n",
        "dic2={\"07\":\"Dhoni\",\"10\":\"Sachin\",\"18\":\"Kohli\"}\r\n",
        "print(dict1)\r\n",
        "print(dic2)\r\n",
        "dic1.update(dic2)\r\n",
        "print(\"After merging both dictionaries:\",dic1)\r\n",
        "\r\n"
      ],
      "execution_count": 9,
      "outputs": [
        {
          "output_type": "stream",
          "text": [
            "{'a': 10, 'b': 8}\n",
            "{'07': 'Dhoni', '10': 'Sachin', '18': 'Kohli'}\n",
            "After merging both dictionaries: {'a': 34, 'b': 44, 'c': 56, 'd': 100, '07': 'Dhoni', '10': 'Sachin', '18': 'Kohli'}\n"
          ],
          "name": "stdout"
        }
      ]
    }
  ]
}