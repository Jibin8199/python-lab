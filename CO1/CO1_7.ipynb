{
  "nbformat": 4,
  "nbformat_minor": 0,
  "metadata": {
    "colab": {
      "name": "CO1_7.ipynb",
      "provenance": [],
      "authorship_tag": "ABX9TyO68TuTrtdEW3KV8TXD/Ee4",
      "include_colab_link": true
    },
    "kernelspec": {
      "name": "python3",
      "display_name": "Python 3"
    }
  },
  "cells": [
    {
      "cell_type": "markdown",
      "metadata": {
        "id": "view-in-github",
        "colab_type": "text"
      },
      "source": [
        "<a href=\"https://colab.research.google.com/github/Jibin8199/python-program/blob/main/CO1_7.ipynb\" target=\"_parent\"><img src=\"https://colab.research.google.com/assets/colab-badge.svg\" alt=\"Open In Colab\"/></a>"
      ]
    },
    {
      "cell_type": "code",
      "metadata": {
        "colab": {
          "base_uri": "https://localhost:8080/"
        },
        "id": "PjWnde0eHqDq",
        "outputId": "ca049459-c913-4349-985c-f0caefe05c75"
      },
      "source": [
        "#7. Enter 2 lists of integers.\r\n",
        "\r\n",
        "list1=[2,3,4,5,7]\r\n",
        "list2=[1,2,4,8]\r\n",
        "list3=[]\r\n",
        "#Check (a) Whether list are of same length \r\n",
        "l1=len(list1)\r\n",
        "l2=len(list2)\r\n",
        "if(l1==l2):\r\n",
        "  print(\"Same length\")\r\n",
        "else:\r\n",
        "  print(\"Length is not same\")\r\n",
        "#(b) whether list sums to same value\r\n",
        "sum1=sum(list1)\r\n",
        "sum2=sum(list2)\r\n",
        "if(sum1==sum2):\r\n",
        "  print(\"Sum is same\")\r\n",
        "else:\r\n",
        "  print(\"Sum is not same\")\r\n",
        "#(c) whether any value occur in both\r\n",
        "for x in list1:\r\n",
        "  if x in list2:\r\n",
        "    list3.append(x)\r\n",
        "print(\"Values occour in both\",list3)"
      ],
      "execution_count": null,
      "outputs": [
        {
          "output_type": "stream",
          "text": [
            "Length is not same\n",
            "Sum is not same\n",
            "Values occour in both [2, 4]\n"
          ],
          "name": "stdout"
        }
      ]
    }
  ]
}