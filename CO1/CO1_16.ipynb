{
  "nbformat": 4,
  "nbformat_minor": 0,
  "metadata": {
    "colab": {
      "name": "CO1_16.ipynb",
      "provenance": [],
      "authorship_tag": "ABX9TyPVthzjMh9A4l2QO6GMbhEa",
      "include_colab_link": true
    },
    "kernelspec": {
      "name": "python3",
      "display_name": "Python 3"
    }
  },
  "cells": [
    {
      "cell_type": "markdown",
      "metadata": {
        "id": "view-in-github",
        "colab_type": "text"
      },
      "source": [
        "<a href=\"https://colab.research.google.com/github/Jibin8199/python-program/blob/main/CO1_16.ipynb\" target=\"_parent\"><img src=\"https://colab.research.google.com/assets/colab-badge.svg\" alt=\"Open In Colab\"/></a>"
      ]
    },
    {
      "cell_type": "code",
      "metadata": {
        "colab": {
          "base_uri": "https://localhost:8080/"
        },
        "id": "G8s2FqzVQ-2m",
        "outputId": "f79dd08d-0cb8-4eca-a614-328347db3172"
      },
      "source": [
        "#16. Create a single string separated with space from two strings by swapping the character at position 1. \r\n",
        "str1=input(\"Enter the first string:\")\r\n",
        "str2=input(\"Enter the second string:\")\r\n",
        "print(str2[0]+str1[1:]+\" \"+str1[0]+str2[1:])"
      ],
      "execution_count": 3,
      "outputs": [
        {
          "output_type": "stream",
          "text": [
            "Enter the first string:Hello\n",
            "Enter the second string:World\n",
            "Wello Horld\n"
          ],
          "name": "stdout"
        }
      ]
    }
  ]
}