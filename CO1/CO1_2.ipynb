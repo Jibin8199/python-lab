{
  "nbformat": 4,
  "nbformat_minor": 0,
  "metadata": {
    "colab": {
      "name": "CO1_2.py",
      "provenance": [],
      "authorship_tag": "ABX9TyPosrCHkZt9lxjFdKOVhbdK",
      "include_colab_link": true
    },
    "kernelspec": {
      "name": "python3",
      "display_name": "Python 3"
    }
  },
  "cells": [
    {
      "cell_type": "markdown",
      "metadata": {
        "id": "view-in-github",
        "colab_type": "text"
      },
      "source": [
        "<a href=\"https://colab.research.google.com/github/Jibin8199/python-program/blob/main/CO1_2.ipynb\" target=\"_parent\"><img src=\"https://colab.research.google.com/assets/colab-badge.svg\" alt=\"Open In Colab\"/></a>"
      ]
    },
    {
      "cell_type": "code",
      "metadata": {
        "colab": {
          "base_uri": "https://localhost:8080/"
        },
        "id": "o_zrtAa5IsZL",
        "outputId": "42a9f3e3-f908-488c-f7fa-4630c6d58c5a"
      },
      "source": [
        "#2. Display future leap years from current year to a final year entered by user.\r\n",
        " \r\n",
        "leapyear=[]\r\n",
        "crntyr=int(input(\"Enter the current year:  \"))\r\n",
        "fnlyr=int(input(\"Enter a final year:      \"))\r\n",
        "for i in range(crntyr,fnlyr+1):\r\n",
        "  if(i%4==0):  \r\n",
        "     if(i%100!=0):\r\n",
        "        leapyear.append(i)\r\n",
        "     elif(i%400==0):\r\n",
        "        leapyear.append(i)\r\n",
        "print(\"Leap years between\",crntyr,\"and\",fnlyr,\"are :\")\r\n",
        "print(leapyear)"
      ],
      "execution_count": null,
      "outputs": [
        {
          "output_type": "stream",
          "text": [
            "Enter the current year:  2021\n",
            "Enter a final year:      2250\n",
            "Leap years between 2021 and 2250 are :\n",
            "[2024, 2028, 2032, 2036, 2040, 2044, 2048, 2052, 2056, 2060, 2064, 2068, 2072, 2076, 2080, 2084, 2088, 2092, 2096, 2104, 2108, 2112, 2116, 2120, 2124, 2128, 2132, 2136, 2140, 2144, 2148, 2152, 2156, 2160, 2164, 2168, 2172, 2176, 2180, 2184, 2188, 2192, 2196, 2204, 2208, 2212, 2216, 2220, 2224, 2228, 2232, 2236, 2240, 2244, 2248]\n"
          ],
          "name": "stdout"
        }
      ]
    }
  ]
}