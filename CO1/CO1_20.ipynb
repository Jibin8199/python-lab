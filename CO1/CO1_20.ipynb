{
  "nbformat": 4,
  "nbformat_minor": 0,
  "metadata": {
    "colab": {
      "name": "CO1_20.ipynb",
      "provenance": [],
      "authorship_tag": "ABX9TyP26GB5Wwe0h8WupRiZDMF1",
      "include_colab_link": true
    },
    "kernelspec": {
      "name": "python3",
      "display_name": "Python 3"
    }
  },
  "cells": [
    {
      "cell_type": "markdown",
      "metadata": {
        "id": "view-in-github",
        "colab_type": "text"
      },
      "source": [
        "<a href=\"https://colab.research.google.com/github/Jibin8199/python-program/blob/main/CO1_20.ipynb\" target=\"_parent\"><img src=\"https://colab.research.google.com/assets/colab-badge.svg\" alt=\"Open In Colab\"/></a>"
      ]
    },
    {
      "cell_type": "code",
      "metadata": {
        "colab": {
          "base_uri": "https://localhost:8080/"
        },
        "id": "_Eke6BYMmF5k",
        "outputId": "45402ad2-9cb3-44bb-efed-8c9c16ee80d0"
      },
      "source": [
        "#20. From a list of integers, create a list removing even numbers.\r\n",
        "\r\n",
        "numlist=[]\r\n",
        "limit=int(input(\"Enter the number of numbers:\"))\r\n",
        "if (limit<=0):\r\n",
        "  print(\"Enter a positive number as limit\")\r\n",
        "  limit=int(input(\"Enter the number of numbers:\"))\r\n",
        "print(\"Enter\",limit,\"integers\")\r\n",
        "for x in range(0,limit):\r\n",
        "  num=int(input())\r\n",
        "  numlist.append(num)\r\n",
        "print(\"List of Numbers:\",numlist)\r\n",
        "oddlist=[x for x in numlist if x%2!=0]\r\n",
        "print(\"List of numbers after removing even numbers:\",oddlist)"
      ],
      "execution_count": 5,
      "outputs": [
        {
          "output_type": "stream",
          "text": [
            "Enter the number of numbers:0\n",
            "Enter a positive number as limit\n",
            "Enter the number of numbers:5\n",
            "Enter 5 integers\n",
            "34\n",
            "3\n",
            "7\n",
            "22\n",
            "5\n",
            "List of Numbers: [34, 3, 7, 22, 5]\n",
            "List of numbers after removing even numbers: [3, 7, 5]\n"
          ],
          "name": "stdout"
        }
      ]
    }
  ]
}