{
  "nbformat": 4,
  "nbformat_minor": 0,
  "metadata": {
    "colab": {
      "name": "CO1_10.ipynb",
      "provenance": [],
      "authorship_tag": "ABX9TyMsRDu6uV4wfC6nauvefezl",
      "include_colab_link": true
    },
    "kernelspec": {
      "name": "python3",
      "display_name": "Python 3"
    }
  },
  "cells": [
    {
      "cell_type": "markdown",
      "metadata": {
        "id": "view-in-github",
        "colab_type": "text"
      },
      "source": [
        "<a href=\"https://colab.research.google.com/github/Jibin8199/python-program/blob/main/CO1_10.ipynb\" target=\"_parent\"><img src=\"https://colab.research.google.com/assets/colab-badge.svg\" alt=\"Open In Colab\"/></a>"
      ]
    },
    {
      "cell_type": "code",
      "metadata": {
        "colab": {
          "base_uri": "https://localhost:8080/"
        },
        "id": "3HXS9AgNds5l",
        "outputId": "2f6300d2-eb1f-490f-df39-4c7214e88dd4"
      },
      "source": [
        "#10. Accept the radius from user and find area of circle.\r\n",
        " \r\n",
        "import math\r\n",
        "rad=float(input(\"Enter the radius: \"))\r\n",
        "if(rad<=0):\r\n",
        "  print(\"Enter a positive number as radius\")\r\n",
        "else:\r\n",
        "  area=math.pi*rad*rad\r\n",
        "  print(\"Area of the circle with radius\",rad,\"is\",area)"
      ],
      "execution_count": 1,
      "outputs": [
        {
          "output_type": "stream",
          "text": [
            "Enter the radius: 4\n",
            "Area of the circle with radius 4.0 is 50.26548245743669\n"
          ],
          "name": "stdout"
        }
      ]
    }
  ]
}