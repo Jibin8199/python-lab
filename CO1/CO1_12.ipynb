{
  "nbformat": 4,
  "nbformat_minor": 0,
  "metadata": {
    "colab": {
      "name": "CO1_12.ipynb",
      "provenance": [],
      "authorship_tag": "ABX9TyOeK70pn9JPG+bqfr4FWvSH",
      "include_colab_link": true
    },
    "kernelspec": {
      "name": "python3",
      "display_name": "Python 3"
    }
  },
  "cells": [
    {
      "cell_type": "markdown",
      "metadata": {
        "id": "view-in-github",
        "colab_type": "text"
      },
      "source": [
        "<a href=\"https://colab.research.google.com/github/Jibin8199/python-program/blob/main/CO1_12.ipynb\" target=\"_parent\"><img src=\"https://colab.research.google.com/assets/colab-badge.svg\" alt=\"Open In Colab\"/></a>"
      ]
    },
    {
      "cell_type": "code",
      "metadata": {
        "colab": {
          "base_uri": "https://localhost:8080/"
        },
        "id": "QShRD--Hh9Wz",
        "outputId": "8bc0b76e-5f7f-467c-adaa-b96beb689503"
      },
      "source": [
        "filename=input(\"Enter the file name :\")\r\n",
        "ext=filename.split(\".\")\r\n",
        "print(\"Extension of the Filename is:.\"+ext[1])"
      ],
      "execution_count": 2,
      "outputs": [
        {
          "output_type": "stream",
          "text": [
            "Enter the file name :c.css\n",
            "Extension of the Filename is:.css\n"
          ],
          "name": "stdout"
        }
      ]
    }
  ]
}