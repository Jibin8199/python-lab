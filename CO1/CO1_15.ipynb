{
  "nbformat": 4,
  "nbformat_minor": 0,
  "metadata": {
    "colab": {
      "name": "CO1_15.ipynb",
      "provenance": [],
      "authorship_tag": "ABX9TyNmJkPDBqE379/t/99V0yXj",
      "include_colab_link": true
    },
    "kernelspec": {
      "name": "python3",
      "display_name": "Python 3"
    }
  },
  "cells": [
    {
      "cell_type": "markdown",
      "metadata": {
        "id": "view-in-github",
        "colab_type": "text"
      },
      "source": [
        "<a href=\"https://colab.research.google.com/github/Jibin8199/python-program/blob/main/CO1_15.ipynb\" target=\"_parent\"><img src=\"https://colab.research.google.com/assets/colab-badge.svg\" alt=\"Open In Colab\"/></a>"
      ]
    },
    {
      "cell_type": "code",
      "metadata": {
        "colab": {
          "base_uri": "https://localhost:8080/"
        },
        "id": "Xlt-U7frK4pg",
        "outputId": "382eb710-1d60-438f-ab16-3e44812ea5f0"
      },
      "source": [
        "#15. Print out all colors from color-list1 not contained in color-list2.\r\n",
        "colorlist1=[\"Red\",\"Black\",\"Blue\",\"Pink\",\"Brown\",\"White\",\"Gray\"]\r\n",
        "colorlist2=[\"White\",\"Green\",\"Orange\",\"Purple\",\"Brown\",\"Red\"]\r\n",
        "clist=[x for x in colorlist1 if x not in colorlist2]\r\n",
        "print(\"Colors from colorlist1 not contained in colorlist2:\",clist)"
      ],
      "execution_count": 3,
      "outputs": [
        {
          "output_type": "stream",
          "text": [
            "Colors from colorlist1 not contained in colorlist2: ['Black', 'Blue', 'Pink', 'Gray']\n"
          ],
          "name": "stdout"
        }
      ]
    }
  ]
}